{
 "cells": [
  {
   "cell_type": "code",
   "execution_count": null,
   "metadata": {},
   "outputs": [],
   "source": [
    "import requests\n",
    "from bs4 import BeautifulSoup\n",
    "\n",
    "def scout_html(url):\n",
    "\n",
    "    page = requests.get(url)\n",
    "    soup = BeautifulSoup(page.content, 'html.parser')\n",
    "\n",
    "    list(soup.children)\n",
    "\n",
    "    for val in list(soup.children):\n",
    "        print(type(val))\n",
    "\n",
    "    print(soup.prettify())\n",
    "\n",
    "scout_html(\"https://athletics.baruch.cuny.edu/sports/mens-swimming-and-diving/roster\")\n"
   ]
  },
  {
   "cell_type": "code",
   "execution_count": null,
   "metadata": {},
   "outputs": [],
   "source": [
    "#this code was very similar to the code above to find the swim team height.\n",
    "#i found that the height elements on the womens volleyball team page utilized the same html class from before, \"sidearm-roster-player-height\"\n",
    "import requests   #importing what i'll use to request information from url and beautifulsoup html parser\n",
    "from bs4 import BeautifulSoup\n",
    "\n",
    "mens_swimming_url = 'https://athletics.baruch.cuny.edu/sports/mens-swimming-and-diving/roster' #storing the links for websites in variables for ease of use\n",
    "mens_volleyball_url = \"https://athletics.baruch.cuny.edu/sports/mens-volleyball/roster\"\n",
    "womens_swimming_url = \"https://athletics.baruch.cuny.edu/sports/womens-swimming-and-diving/roster\"\n",
    "womens_voleyball_url = \"https://athletics.baruch.cuny.edu/sports/womens-volleyball/roster\"\n",
    "\n",
    "def get_height(url):\n",
    " \n",
    "    page = requests.get(URL) #get request to specified URL \n",
    "    soup = BeautifulSoup(page.content, 'html.parser') #parses HTML content to make it readable\n",
    "    height = soup.find_all(class_=\"height\") #find all elements with html class of  \"sidearm-roster-player-height\"\n",
    "    #i had parsed this page using the kernel above and found that all height valuees had the html class of \"sidearm-roster-player-height\" and figured i should scrape all values with that class.\n",
    "\n",
    "\n",
    "    heights_values = [height.text.strip() for height in height] #first extracts text from the \"height\" elements, which is essentially any html element belonging to the class of  \"sidearm-roster-player-height\"\n",
    "    #by creating new list called heights_values, i use a for loop to add the stripped text to the list, which is essentially the html elements without the extra spacing.\n",
    "    #essentially, finding all values using a for loop referencing the height variable which used soup.find_all to find all values with the html class\n",
    "    #and then using .strip to remove unnecessary spacing\n",
    "    height_convert = [float(height.split('-')[0]) * 12 + int(height.split('-')[1]) for height in heights_values]\n",
    "    \"\"\"the code above is used to convert from feet to inches. I had to individually take the first part of the height,\n",
    "    which is in feet, and then the second part of the height which is in inches. Had to multiply the feet by 12 to get inches. \"\"\"\n",
    "    average_height_inches = sum(height_convert) / len(height_convert) #dividing the sum of all the heights by the amount of items in the height list, which is just finding the avg.\n",
    "    average_height_feet = average_height_inches/12 #avg in feet instead of inches.\n",
    "\n",
    "    for height in height:\n",
    "        print(height.text.strip()) #prints the heights from the website, once again using the .strip python strip method to remove any unecessary spacing.\n",
    "\n",
    "    print(f\" The average of the heights is {average_height_inches} in inches and {average_height_feet} feet.\") #using a direct ref to the valus of avg height variables.\n",
    "\n",
    "mens_swimming_heights = get_height(mens_swimming_url)\n",
    "mens_volleyball_heights = get_height(mens_volleyball_url)\n",
    "womens_swimming_heights = get_height(womens_swimming_url)\n",
    "womens_voleyball_heights = get_height(womens_voleyball_url)\n",
    "\n",
    "\n",
    "\n"
   ]
  }
 ],
 "metadata": {
  "kernelspec": {
   "display_name": "Python 3",
   "language": "python",
   "name": "python3"
  },
  "language_info": {
   "codemirror_mode": {
    "name": "ipython",
    "version": 3
   },
   "file_extension": ".py",
   "mimetype": "text/x-python",
   "name": "python",
   "nbconvert_exporter": "python",
   "pygments_lexer": "ipython3",
   "version": "3.11.5"
  }
 },
 "nbformat": 4,
 "nbformat_minor": 2
}
